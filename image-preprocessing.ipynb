{
 "cells": [
  {
   "cell_type": "code",
   "execution_count": 1,
   "metadata": {},
   "outputs": [],
   "source": [
    "import pandas as pd\n",
    "import os\n",
    "import shutil"
   ]
  },
  {
   "cell_type": "code",
   "execution_count": 3,
   "metadata": {},
   "outputs": [],
   "source": [
    "df = pd.read_csv('BTTAIxNYBG-train.csv')\n",
    "\n",
    "# Set your base directories\n",
    "train_dir = 'Train_before'  # Path to the existing training directory\n",
    "new_train_dir = 'train'  # Path to the new directory structure\n",
    "\n",
    "# Create subdirectories and move files\n",
    "for _, row in df.iterrows():\n",
    "    class_id = str(row['classID'])\n",
    "    file_name = row['imageFile']\n",
    "    source = os.path.join(train_dir, file_name)\n",
    "    dest_dir = os.path.join(new_train_dir, class_id)\n",
    "    os.makedirs(dest_dir, exist_ok=True)\n",
    "    shutil.move(source, os.path.join(dest_dir, file_name))"
   ]
  },
  {
   "cell_type": "code",
   "execution_count": 6,
   "metadata": {},
   "outputs": [],
   "source": [
    "df = pd.read_csv('BTTAIxNYBG-validation.csv')\n",
    "\n",
    "# Set your base directories\n",
    "validation_dir = 'Validation_before'  # Path to the existing training directory\n",
    "new_validation_dir = 'validation'  # Path to the new directory structure\n",
    "\n",
    "# Create subdirectories and move files\n",
    "for _, row in df.iterrows():\n",
    "    class_id = str(row['classID'])\n",
    "    file_name = row['imageFile']\n",
    "    source = os.path.join(validation_dir, file_name)\n",
    "    dest_dir = os.path.join(new_validation_dir, class_id)\n",
    "    os.makedirs(dest_dir, exist_ok=True)\n",
    "    shutil.move(source, os.path.join(dest_dir, file_name))"
   ]
  },
  {
   "cell_type": "code",
   "execution_count": null,
   "metadata": {},
   "outputs": [],
   "source": []
  }
 ],
 "metadata": {
  "kernelspec": {
   "display_name": "machine_learning",
   "language": "python",
   "name": "python3"
  },
  "language_info": {
   "codemirror_mode": {
    "name": "ipython",
    "version": 3
   },
   "file_extension": ".py",
   "mimetype": "text/x-python",
   "name": "python",
   "nbconvert_exporter": "python",
   "pygments_lexer": "ipython3",
   "version": "3.9.7"
  }
 },
 "nbformat": 4,
 "nbformat_minor": 2
}
